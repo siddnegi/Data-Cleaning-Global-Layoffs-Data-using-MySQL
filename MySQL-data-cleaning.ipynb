{
 "cells": [
  {
   "cell_type": "markdown",
   "metadata": {},
   "source": [
    "First thing we want to do is create a staging table. This is the one we will work in and clean the data. We want a table with the raw data in case something happens"
   ]
  },
  {
   "cell_type": "code",
   "execution_count": null,
   "metadata": {},
   "outputs": [],
   "source": [
    "SELECT * \n",
    "FROM world_layoffs.layoffs;\n",
    "CREATE TABLE world_layoffs.layoffs_staging \n",
    "LIKE world_layoffs.layoffs;\n",
    "\n",
    "INSERT layoffs_staging \n",
    "SELECT * FROM world_layoffs.layoffs;"
   ]
  },
  {
   "cell_type": "markdown",
   "metadata": {},
   "source": [
    "Steps for the cleaning process:\n",
    "\n",
    "Step 1. check for duplicates and remove any\n",
    "Step 2. standardize data and fix errors\n",
    "Step 3. Look at null values \n",
    "Step 4. remove any columns and rows that are not necessary "
   ]
  },
  {
   "cell_type": "markdown",
   "metadata": {},
   "source": [
    "Step 1. Remove Duplicates\n",
    "First we are going to check for duplicates "
   ]
  },
  {
   "cell_type": "code",
   "execution_count": null,
   "metadata": {},
   "outputs": [],
   "source": [
    "SELECT *\n",
    "FROM world_layoffs.layoffs_staging\n",
    ";\n",
    "\n",
    "SELECT company, industry, total_laid_off,`date`,\n",
    "\t\tROW_NUMBER() OVER (\n",
    "\t\t\tPARTITION BY company, industry, total_laid_off,`date`) AS row_num\n",
    "\tFROM \n",
    "\t\tworld_layoffs.layoffs_staging;"
   ]
  },
  {
   "cell_type": "code",
   "execution_count": null,
   "metadata": {},
   "outputs": [],
   "source": [
    "SELECT *\n",
    "FROM (\n",
    "\tSELECT company, industry, total_laid_off,`date`,\n",
    "\t\tROW_NUMBER() OVER (\n",
    "\t\t\tPARTITION BY company, industry, total_laid_off,`date`\n",
    "\t\t\t) AS row_num\n",
    "\tFROM \n",
    "\t\tworld_layoffs.layoffs_staging\n",
    ") duplicates\n",
    "WHERE \n",
    "\trow_num > 1;"
   ]
  },
  {
   "cell_type": "markdown",
   "metadata": {},
   "source": [
    "Lets look at a company to confirm, we will look at the company called Oda"
   ]
  },
  {
   "cell_type": "code",
   "execution_count": null,
   "metadata": {},
   "outputs": [],
   "source": [
    "SELECT *\n",
    "FROM world_layoffs.layoffs_staging\n",
    "WHERE company = 'Oda'"
   ]
  },
  {
   "cell_type": "markdown",
   "metadata": {},
   "source": [
    "After running the queries it looks like these are legitimate entries. We need to look at every single row to be accurate. This is a manual process but can work for a data set of this size"
   ]
  },
  {
   "cell_type": "markdown",
   "metadata": {},
   "source": [
    "Running the query to list down the real duplicates"
   ]
  },
  {
   "cell_type": "code",
   "execution_count": null,
   "metadata": {},
   "outputs": [],
   "source": [
    "SELECT *\n",
    "FROM (\n",
    "\tSELECT company, location, industry, total_laid_off,percentage_laid_off,`date`, stage, country, funds_raised_millions,\n",
    "\t\tROW_NUMBER() OVER (\n",
    "\t\t\tPARTITION BY company, location, industry, total_laid_off,percentage_laid_off,`date`, stage, country, funds_raised_millions\n",
    "\t\t\t) AS row_num\n",
    "\tFROM \n",
    "\t\tworld_layoffs.layoffs_staging\n",
    ") duplicates\n",
    "WHERE \n",
    "\trow_num > 1;"
   ]
  },
  {
   "cell_type": "markdown",
   "metadata": {},
   "source": [
    "By running the above query we get the duplicate items. These are the ones we want to delete where the row number is > 1 or 2 or greater essentially."
   ]
  },
  {
   "cell_type": "markdown",
   "metadata": {},
   "source": [
    "We will now delete the duplicates using a CTE"
   ]
  },
  {
   "cell_type": "code",
   "execution_count": null,
   "metadata": {},
   "outputs": [],
   "source": [
    "WITH DELETE_CTE AS \n",
    "(\n",
    "SELECT *\n",
    "FROM (\n",
    "\tSELECT company, location, industry, total_laid_off,percentage_laid_off,`date`, stage, country, funds_raised_millions,\n",
    "\t\tROW_NUMBER() OVER (\n",
    "\t\t\tPARTITION BY company, location, industry, total_laid_off,percentage_laid_off,`date`, stage, country, funds_raised_millions\n",
    "\t\t\t) AS row_num\n",
    "\tFROM \n",
    "\t\tworld_layoffs.layoffs_staging\n",
    ") duplicates\n",
    "WHERE \n",
    "\trow_num > 1\n",
    ")\n",
    "DELETE\n",
    "FROM DELETE_CTE\n",
    ";"
   ]
  },
  {
   "cell_type": "code",
   "execution_count": null,
   "metadata": {},
   "outputs": [],
   "source": [
    "WITH DELETE_CTE AS (\n",
    "\tSELECT company, location, industry, total_laid_off, percentage_laid_off, `date`, stage, country, funds_raised_millions, \n",
    "    ROW_NUMBER() OVER (PARTITION BY company, location, industry, total_laid_off, percentage_laid_off, `date`, stage, country, funds_raised_millions) AS row_num\n",
    "\tFROM world_layoffs.layoffs_staging\n",
    ")\n",
    "DELETE FROM world_layoffs.layoffs_staging\n",
    "WHERE (company, location, industry, total_laid_off, percentage_laid_off, `date`, stage, country, funds_raised_millions, row_num) IN (\n",
    "\tSELECT company, location, industry, total_laid_off, percentage_laid_off, `date`, stage, country, funds_raised_millions, row_num\n",
    "\tFROM DELETE_CTE\n",
    ") AND row_num > 1;"
   ]
  },
  {
   "cell_type": "markdown",
   "metadata": {},
   "source": [
    "One solution which I can think of is to create a new column and add those row numbers in. Then delete where row numbers are over 2, then delete that column"
   ]
  },
  {
   "cell_type": "code",
   "execution_count": null,
   "metadata": {},
   "outputs": [],
   "source": [
    "ALTER TABLE world_layoffs.layoffs_staging ADD row_num INT;"
   ]
  },
  {
   "cell_type": "code",
   "execution_count": null,
   "metadata": {},
   "outputs": [],
   "source": [
    "SELECT *\n",
    "FROM world_layoffs.layoffs_staging\n",
    ";"
   ]
  },
  {
   "cell_type": "code",
   "execution_count": null,
   "metadata": {},
   "outputs": [],
   "source": [
    "CREATE TABLE `world_layoffs`.`layoffs_staging2` (\n",
    "`company` text,\n",
    "`location`text,\n",
    "`industry`text,\n",
    "`total_laid_off` INT,\n",
    "`percentage_laid_off` text,\n",
    "`date` text,\n",
    "`stage`text,\n",
    "`country` text,\n",
    "`funds_raised_millions` int,\n",
    "row_num INT\n",
    ");"
   ]
  },
  {
   "cell_type": "code",
   "execution_count": null,
   "metadata": {},
   "outputs": [],
   "source": [
    "INSERT INTO `world_layoffs`.`layoffs_staging2`\n",
    "(`company`,\n",
    "`location`,\n",
    "`industry`,\n",
    "`total_laid_off`,\n",
    "`percentage_laid_off`,\n",
    "`date`,\n",
    "`stage`,\n",
    "`country`,\n",
    "`funds_raised_millions`,\n",
    "`row_num`)\n",
    "SELECT `company`,\n",
    "`location`,\n",
    "`industry`,\n",
    "`total_laid_off`,\n",
    "`percentage_laid_off`,\n",
    "`date`,\n",
    "`stage`,\n",
    "`country`,\n",
    "`funds_raised_millions`,\n",
    "\t\tROW_NUMBER() OVER (\n",
    "\t\t\tPARTITION BY company, location, industry, total_laid_off,percentage_laid_off,`date`, stage, country, funds_raised_millions\n",
    "\t\t\t) AS row_num\n",
    "\tFROM \n",
    "\t\tworld_layoffs.layoffs_staging;"
   ]
  },
  {
   "cell_type": "markdown",
   "metadata": {},
   "source": [
    "Now that we have this we can delete rows were row_num is greater than 2"
   ]
  },
  {
   "cell_type": "code",
   "execution_count": null,
   "metadata": {},
   "outputs": [],
   "source": [
    "DELETE FROM world_layoffs.layoffs_staging2\n",
    "WHERE row_num >= 2;"
   ]
  },
  {
   "cell_type": "markdown",
   "metadata": {},
   "source": [
    "Step 2 - Standardize Data"
   ]
  },
  {
   "cell_type": "code",
   "execution_count": null,
   "metadata": {},
   "outputs": [],
   "source": [
    "SELECT * \n",
    "FROM world_layoffs.layoffs_staging2;"
   ]
  },
  {
   "cell_type": "markdown",
   "metadata": {},
   "source": [
    "In the indsutry columns, there seem to be some null values. Will take a closer look ay them now."
   ]
  },
  {
   "cell_type": "code",
   "execution_count": null,
   "metadata": {},
   "outputs": [],
   "source": [
    "SELECT DISTINCT industry\n",
    "FROM world_layoffs.layoffs_staging2\n",
    "ORDER BY industry;"
   ]
  },
  {
   "cell_type": "code",
   "execution_count": null,
   "metadata": {},
   "outputs": [],
   "source": [
    "SELECT *\n",
    "FROM world_layoffs.layoffs_staging2\n",
    "WHERE industry IS NULL \n",
    "OR industry = ''\n",
    "ORDER BY industry;"
   ]
  },
  {
   "cell_type": "markdown",
   "metadata": {},
   "source": [
    "Lets look like lookalike companies "
   ]
  },
  {
   "cell_type": "code",
   "execution_count": null,
   "metadata": {},
   "outputs": [],
   "source": [
    "SELECT *\n",
    "FROM world_layoffs.layoffs_staging2\n",
    "WHERE company LIKE 'Bally%';"
   ]
  },
  {
   "cell_type": "markdown",
   "metadata": {},
   "source": [
    "There seems to be nothing wrong here."
   ]
  },
  {
   "cell_type": "code",
   "execution_count": null,
   "metadata": {},
   "outputs": [],
   "source": [
    "SELECT *\n",
    "FROM world_layoffs.layoffs_staging2\n",
    "WHERE company LIKE 'airbnb%';"
   ]
  },
  {
   "cell_type": "markdown",
   "metadata": {},
   "source": [
    "It looks like airbnb is a travel company, but this one just isn't populated.\n",
    "I'm sure it's the same for the others. What we can do is write a query that if there is another row with the same company name, it will update it to the non-null industry values\n",
    "This makes it easy so if there were thousands we wouldn't have to manually check them all\n",
    "\n",
    "Before doing so we can set the blanks to nulls since they are easier to work with."
   ]
  },
  {
   "cell_type": "code",
   "execution_count": null,
   "metadata": {},
   "outputs": [],
   "source": [
    "UPDATE world_layoffs.layoffs_staging2\n",
    "SET industry = NULL\n",
    "WHERE industry = '';"
   ]
  },
  {
   "cell_type": "markdown",
   "metadata": {},
   "source": [
    "Lets check if all are null now or not."
   ]
  },
  {
   "cell_type": "code",
   "execution_count": null,
   "metadata": {},
   "outputs": [],
   "source": [
    "SELECT *\n",
    "FROM world_layoffs.layoffs_staging2\n",
    "WHERE industry IS NULL \n",
    "OR industry = ''\n",
    "ORDER BY industry;"
   ]
  },
  {
   "cell_type": "markdown",
   "metadata": {},
   "source": [
    "We will now populate nulls"
   ]
  },
  {
   "cell_type": "code",
   "execution_count": null,
   "metadata": {},
   "outputs": [],
   "source": [
    "UPDATE layoffs_staging2 t1\n",
    "JOIN layoffs_staging2 t2\n",
    "ON t1.company = t2.company\n",
    "SET t1.industry = t2.industry\n",
    "WHERE t1.industry IS NULL\n",
    "AND t2.industry IS NOT NULL;"
   ]
  },
  {
   "cell_type": "markdown",
   "metadata": {},
   "source": [
    "If we check it looks like Bally's was the only one without a populated row to populate this null value."
   ]
  },
  {
   "cell_type": "code",
   "execution_count": null,
   "metadata": {},
   "outputs": [],
   "source": [
    "SELECT *\n",
    "FROM world_layoffs.layoffs_staging2\n",
    "WHERE industry IS NULL \n",
    "OR industry = ''\n",
    "ORDER BY industry;"
   ]
  },
  {
   "cell_type": "markdown",
   "metadata": {},
   "source": [
    "Crypto has multiple different variations. We need to standardize that."
   ]
  },
  {
   "cell_type": "code",
   "execution_count": null,
   "metadata": {},
   "outputs": [],
   "source": [
    "SELECT DISTINCT industry\n",
    "FROM world_layoffs.layoffs_staging2\n",
    "ORDER BY industry;"
   ]
  },
  {
   "cell_type": "code",
   "execution_count": null,
   "metadata": {},
   "outputs": [],
   "source": [
    "UPDATE layoffs_staging2\n",
    "SET industry = 'Crypto'\n",
    "WHERE industry IN ('Crypto Currency', 'CryptoCurrency');"
   ]
  },
  {
   "cell_type": "markdown",
   "metadata": {},
   "source": [
    "Looking at the industry column final time to check."
   ]
  },
  {
   "cell_type": "code",
   "execution_count": null,
   "metadata": {},
   "outputs": [],
   "source": [
    "SELECT DISTINCT industry\n",
    "FROM world_layoffs.layoffs_staging2\n",
    "ORDER BY industry;"
   ]
  },
  {
   "cell_type": "markdown",
   "metadata": {},
   "source": [
    "Looking at the complete table"
   ]
  },
  {
   "cell_type": "code",
   "execution_count": null,
   "metadata": {},
   "outputs": [],
   "source": [
    "SELECT *\n",
    "FROM world_layoffs.layoffs_staging2;"
   ]
  },
  {
   "cell_type": "markdown",
   "metadata": {},
   "source": [
    "Eeverything looks good except we have \"United States\" and some \"United States.\" with a period at the end. We will now standardize this."
   ]
  },
  {
   "cell_type": "code",
   "execution_count": null,
   "metadata": {},
   "outputs": [],
   "source": [
    "SELECT DISTINCT country\n",
    "FROM world_layoffs.layoffs_staging2\n",
    "ORDER BY country;"
   ]
  },
  {
   "cell_type": "code",
   "execution_count": null,
   "metadata": {},
   "outputs": [],
   "source": [
    "UPDATE layoffs_staging2\n",
    "SET country = TRIM(TRAILING '.' FROM country);\n"
   ]
  },
  {
   "cell_type": "markdown",
   "metadata": {},
   "source": [
    "We need to fix the date columns using str to date to update this field."
   ]
  },
  {
   "cell_type": "code",
   "execution_count": null,
   "metadata": {},
   "outputs": [],
   "source": [
    "UPDATE layoffs_staging2\n",
    "SET `date` = STR_TO_DATE(`date`, '%m/%d/%Y');"
   ]
  },
  {
   "cell_type": "markdown",
   "metadata": {},
   "source": [
    "Now we can convert the data type"
   ]
  },
  {
   "cell_type": "code",
   "execution_count": null,
   "metadata": {},
   "outputs": [],
   "source": [
    "ALTER TABLE layoffs_staging2\n",
    "MODIFY COLUMN `date` DATE;"
   ]
  },
  {
   "cell_type": "markdown",
   "metadata": {},
   "source": [
    "Step 3 - Remove null values\n",
    "The null values in total_laid_off, percentage_laid_off, and funds_raised_millions all look normal. I don't think I want to change that\n",
    "I like having them null because it makes it easier for calculations during the EDA phase\n",
    "So there isn't anything I want to change with the null values"
   ]
  },
  {
   "cell_type": "markdown",
   "metadata": {},
   "source": [
    "Step 4 Remove columns and rows that are not necessary "
   ]
  },
  {
   "cell_type": "code",
   "execution_count": null,
   "metadata": {},
   "outputs": [],
   "source": [
    "DELETE FROM world_layoffs.layoffs_staging2\n",
    "WHERE total_laid_off IS NULL\n",
    "AND percentage_laid_off IS NULL;"
   ]
  },
  {
   "cell_type": "code",
   "execution_count": null,
   "metadata": {},
   "outputs": [],
   "source": [
    "ALTER TABLE layoffs_staging2\n",
    "DROP COLUMN row_num;"
   ]
  },
  {
   "cell_type": "markdown",
   "metadata": {},
   "source": [
    "Our table is now cleaned and ready for data analysis"
   ]
  }
 ],
 "metadata": {
  "language_info": {
   "name": "python"
  }
 },
 "nbformat": 4,
 "nbformat_minor": 2
}
